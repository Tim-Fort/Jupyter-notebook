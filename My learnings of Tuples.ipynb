{
    "nbformat_minor": 1, 
    "cells": [
        {
            "source": "# My learnings in Tuple", 
            "cell_type": "markdown", 
            "metadata": {
                "collapsed": true
            }
        }, 
        {
            "execution_count": 3, 
            "cell_type": "code", 
            "metadata": {}, 
            "outputs": [
                {
                    "output_type": "stream", 
                    "name": "stdout", 
                    "text": "('disco', 10, 1.2)\n"
                }
            ], 
            "source": "# Create my first tuple\n\ntuple1 = ('disco',10,1.2)\ntuple1\nprint(tuple1) # Print the tuple created"
        }, 
        {
            "source": "## Indexing", 
            "cell_type": "markdown", 
            "metadata": {}
        }, 
        {
            "execution_count": 4, 
            "cell_type": "code", 
            "metadata": {}, 
            "outputs": [
                {
                    "output_type": "stream", 
                    "name": "stdout", 
                    "text": "disco\n10\n1.2\n"
                }
            ], 
            "source": "# Print the variable on each index\n\nprint(tuple1[0])\nprint(tuple1[1])\nprint(tuple1[2])"
        }, 
        {
            "execution_count": 5, 
            "cell_type": "code", 
            "metadata": {}, 
            "outputs": [
                {
                    "output_type": "stream", 
                    "name": "stdout", 
                    "text": "<class 'str'>\n<class 'int'>\n<class 'float'>\n"
                }
            ], 
            "source": "# Print the type of value on each index\n\nprint(type(tuple1[0]))\nprint(type(tuple1[1]))\nprint(type(tuple1[2]))"
        }, 
        {
            "execution_count": 7, 
            "cell_type": "code", 
            "metadata": {}, 
            "outputs": [
                {
                    "execution_count": 7, 
                    "metadata": {}, 
                    "data": {
                        "text/plain": "1.2"
                    }, 
                    "output_type": "execute_result"
                }
            ], 
            "source": "# Use negative index to get the value of the last element\n\ntuple1[-1]"
        }, 
        {
            "execution_count": 8, 
            "cell_type": "code", 
            "metadata": {}, 
            "outputs": [
                {
                    "execution_count": 8, 
                    "metadata": {}, 
                    "data": {
                        "text/plain": "10"
                    }, 
                    "output_type": "execute_result"
                }
            ], 
            "source": "# Use negative index to get the value of the second last element\n\ntuple1[-2]"
        }, 
        {
            "execution_count": 9, 
            "cell_type": "code", 
            "metadata": {}, 
            "outputs": [
                {
                    "execution_count": 9, 
                    "metadata": {}, 
                    "data": {
                        "text/plain": "'disco'"
                    }, 
                    "output_type": "execute_result"
                }
            ], 
            "source": "# Use negative index to get the value of the third element\n\ntuple1[-3]"
        }, 
        {
            "source": "## Concatenate Tuples", 
            "cell_type": "markdown", 
            "metadata": {}
        }, 
        {
            "execution_count": 11, 
            "cell_type": "code", 
            "metadata": {}, 
            "outputs": [
                {
                    "execution_count": 11, 
                    "metadata": {}, 
                    "data": {
                        "text/plain": "('disco', 10, 1.2, 'hard rock', 10)"
                    }, 
                    "output_type": "execute_result"
                }
            ], 
            "source": "# Concatentate two tuples\n\ntuple2 = tuple1 + (\"hard rock\",10)\ntuple2"
        }, 
        {
            "source": "## Slicing", 
            "cell_type": "markdown", 
            "metadata": {}
        }, 
        {
            "execution_count": 13, 
            "cell_type": "code", 
            "metadata": {}, 
            "outputs": [
                {
                    "execution_count": 13, 
                    "metadata": {}, 
                    "data": {
                        "text/plain": "('disco', 10, 1.2)"
                    }, 
                    "output_type": "execute_result"
                }
            ], 
            "source": "# Slice from index 0 to index 2\n\ntuple1[0:3]"
        }, 
        {
            "execution_count": 14, 
            "cell_type": "code", 
            "metadata": {}, 
            "outputs": [
                {
                    "execution_count": 14, 
                    "metadata": {}, 
                    "data": {
                        "text/plain": "('hard rock', 10)"
                    }, 
                    "output_type": "execute_result"
                }
            ], 
            "source": "# Slice from index 3 to index 4\n\ntuple2[3:5]"
        }, 
        {
            "execution_count": 15, 
            "cell_type": "code", 
            "metadata": {}, 
            "outputs": [
                {
                    "execution_count": 15, 
                    "metadata": {}, 
                    "data": {
                        "text/plain": "5"
                    }, 
                    "output_type": "execute_result"
                }
            ], 
            "source": "# Get the length of tuple\n\nlen(tuple2)"
        }, 
        {
            "source": "## Sorting", 
            "cell_type": "markdown", 
            "metadata": {}
        }, 
        {
            "execution_count": 16, 
            "cell_type": "code", 
            "metadata": {}, 
            "outputs": [], 
            "source": "# A sample tuple\n\nRatings = (0, 9, 6, 5, 10, 8, 9, 6, 2)"
        }, 
        {
            "execution_count": 18, 
            "cell_type": "code", 
            "metadata": {}, 
            "outputs": [
                {
                    "execution_count": 18, 
                    "metadata": {}, 
                    "data": {
                        "text/plain": "[0, 2, 5, 6, 6, 8, 9, 9, 10]"
                    }, 
                    "output_type": "execute_result"
                }
            ], 
            "source": "# Sort the tuple\n\nRatingsSorted = sorted(Ratings)\nRatingsSorted"
        }, 
        {
            "source": "## Nested Tuple\n\n", 
            "cell_type": "markdown", 
            "metadata": {}
        }, 
        {
            "execution_count": 19, 
            "cell_type": "code", 
            "metadata": {}, 
            "outputs": [], 
            "source": "# Create a nest tuple\n\nNestedT = (1, 2, (\"pop\", \"rock\"), (3,4), ('disco', (1,2)))"
        }, 
        {
            "execution_count": 23, 
            "cell_type": "code", 
            "metadata": {}, 
            "outputs": [
                {
                    "output_type": "stream", 
                    "name": "stdout", 
                    "text": "Element 0 of Tuple: 1\nElement 1 of Tuple: 2\nElement 2 of Tuple: ('pop', 'rock')\nElement 3 of Tuple: (3, 4)\nElement 4 of Tuple: ('disco', (1, 2))\n"
                }
            ], 
            "source": "# Print element of each index\n\nlen(NestedT)\nprint('Element 0 of Tuple:', NestedT[0])\nprint('Element 1 of Tuple:', NestedT[1])\nprint('Element 2 of Tuple:', NestedT[2])\nprint('Element 3 of Tuple:', NestedT[3])\nprint('Element 4 of Tuple:', NestedT[4])"
        }, 
        {
            "execution_count": 24, 
            "cell_type": "code", 
            "metadata": {}, 
            "outputs": [
                {
                    "output_type": "stream", 
                    "name": "stdout", 
                    "text": "element 2, 0 of Tuple: pop\nelement 2, 1 of Tuple: rock\nelement 3, 0 of Tuple: 3\nelement 3, 1 of Tuple: 4\nelement 4, 0 of Tuple: disco\nelement 4, 1 of Tuple: (1, 2)\n"
                }
            ], 
            "source": "# Print element on each index, including nest indexes\n\nprint('element 2, 0 of Tuple:', NestedT[2][0])\nprint('element 2, 1 of Tuple:', NestedT[2][1])\nprint('element 3, 0 of Tuple:', NestedT[3][0])\nprint('element 3, 1 of Tuple:', NestedT[3][1])\nprint('element 4, 0 of Tuple:', NestedT[4][0])\nprint('element 4, 1 of Tuple:', NestedT[4][1])"
        }, 
        {
            "execution_count": 27, 
            "cell_type": "code", 
            "metadata": {}, 
            "outputs": [
                {
                    "execution_count": 27, 
                    "metadata": {}, 
                    "data": {
                        "text/plain": "1"
                    }, 
                    "output_type": "execute_result"
                }
            ], 
            "source": "# Print the first element in the second nested tuples\n\nNestedT[4][1][0]"
        }, 
        {
            "execution_count": 28, 
            "cell_type": "code", 
            "metadata": {}, 
            "outputs": [
                {
                    "execution_count": 28, 
                    "metadata": {}, 
                    "data": {
                        "text/plain": "2"
                    }, 
                    "output_type": "execute_result"
                }
            ], 
            "source": "# Print the second element in the second nested tuples\n\nNestedT[4][1][1]"
        }, 
        {
            "execution_count": null, 
            "cell_type": "code", 
            "metadata": {}, 
            "outputs": [], 
            "source": ""
        }
    ], 
    "metadata": {
        "kernelspec": {
            "display_name": "Python 3.5", 
            "name": "python3", 
            "language": "python"
        }, 
        "language_info": {
            "mimetype": "text/x-python", 
            "nbconvert_exporter": "python", 
            "version": "3.5.5", 
            "name": "python", 
            "file_extension": ".py", 
            "pygments_lexer": "ipython3", 
            "codemirror_mode": {
                "version": 3, 
                "name": "ipython"
            }
        }
    }, 
    "nbformat": 4
}