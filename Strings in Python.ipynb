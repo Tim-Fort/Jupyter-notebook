{
    "nbformat_minor": 1, 
    "cells": [
        {
            "source": "# What are Strings?", 
            "cell_type": "markdown", 
            "metadata": {}
        }, 
        {
            "execution_count": 1, 
            "cell_type": "code", 
            "metadata": {}, 
            "outputs": [
                {
                    "output_type": "stream", 
                    "name": "stdout", 
                    "text": "Michael Jackson \n is the best\n"
                }
            ], 
            "source": "print(\"Michael Jackson \\n is the best\")"
        }, 
        {
            "execution_count": null, 
            "cell_type": "code", 
            "metadata": {}, 
            "outputs": [], 
            "source": ""
        }, 
        {
            "execution_count": 2, 
            "cell_type": "code", 
            "metadata": {}, 
            "outputs": [
                {
                    "output_type": "stream", 
                    "name": "stdout", 
                    "text": "Michael Jackson \t was \t and is \n still the \t best\n"
                }
            ], 
            "source": "print(\"Michael Jackson \\t was \\t and is \\n still the \\t best\")"
        }, 
        {
            "execution_count": 3, 
            "cell_type": "code", 
            "metadata": {}, 
            "outputs": [
                {
                    "execution_count": 3, 
                    "metadata": {}, 
                    "data": {
                        "text/plain": "'Michael Jackson'"
                    }, 
                    "output_type": "execute_result"
                }
            ], 
            "source": "'Michael Jackson'"
        }, 
        {
            "execution_count": 4, 
            "cell_type": "code", 
            "metadata": {}, 
            "outputs": [
                {
                    "execution_count": 4, 
                    "metadata": {}, 
                    "data": {
                        "text/plain": "'Michael Jackson'"
                    }, 
                    "output_type": "execute_result"
                }
            ], 
            "source": "\"Michael Jackson\""
        }, 
        {
            "execution_count": 5, 
            "cell_type": "code", 
            "metadata": {}, 
            "outputs": [
                {
                    "execution_count": 5, 
                    "metadata": {}, 
                    "data": {
                        "text/plain": "'1 2 3 4 5 6'"
                    }, 
                    "output_type": "execute_result"
                }
            ], 
            "source": "# Digitals and spaces in string\n\n'1 2 3 4 5 6'"
        }, 
        {
            "execution_count": 6, 
            "cell_type": "code", 
            "metadata": {}, 
            "outputs": [
                {
                    "execution_count": 6, 
                    "metadata": {}, 
                    "data": {
                        "text/plain": "'@#2_#]&*^%$'"
                    }, 
                    "output_type": "execute_result"
                }
            ], 
            "source": "# Special characters in string\n\n'@#2_#]&*^%$'"
        }, 
        {
            "execution_count": 7, 
            "cell_type": "code", 
            "metadata": {}, 
            "outputs": [
                {
                    "output_type": "stream", 
                    "name": "stdout", 
                    "text": "hello!\n"
                }
            ], 
            "source": "print(\"hello!\")"
        }, 
        {
            "execution_count": 8, 
            "cell_type": "code", 
            "metadata": {}, 
            "outputs": [], 
            "source": "# Assign string to variable\n\nName = \"Michael Jackson\""
        }, 
        {
            "execution_count": 9, 
            "cell_type": "code", 
            "metadata": {}, 
            "outputs": [
                {
                    "execution_count": 9, 
                    "metadata": {}, 
                    "data": {
                        "text/plain": "'Michael Jackson'"
                    }, 
                    "output_type": "execute_result"
                }
            ], 
            "source": "Name"
        }, 
        {
            "source": "## Indexing", 
            "cell_type": "markdown", 
            "metadata": {}
        }, 
        {
            "execution_count": 10, 
            "cell_type": "code", 
            "metadata": {}, 
            "outputs": [
                {
                    "output_type": "stream", 
                    "name": "stdout", 
                    "text": "M\n"
                }
            ], 
            "source": "print(Name[0])"
        }, 
        {
            "execution_count": 11, 
            "cell_type": "code", 
            "metadata": {}, 
            "outputs": [], 
            "source": "# Print the element on the index 6 in the string"
        }, 
        {
            "execution_count": 12, 
            "cell_type": "code", 
            "metadata": {}, 
            "outputs": [
                {
                    "output_type": "stream", 
                    "name": "stdout", 
                    "text": "l\n"
                }
            ], 
            "source": "print(Name[6])"
        }, 
        {
            "execution_count": 13, 
            "cell_type": "code", 
            "metadata": {}, 
            "outputs": [
                {
                    "output_type": "stream", 
                    "name": "stdout", 
                    "text": "o\n"
                }
            ], 
            "source": "# print the element on the 13th index in the string\n\nprint(Name[13])"
        }, 
        {
            "source": "## Negative Indexing", 
            "cell_type": "markdown", 
            "metadata": {}
        }, 
        {
            "execution_count": 14, 
            "cell_type": "code", 
            "metadata": {}, 
            "outputs": [
                {
                    "output_type": "stream", 
                    "name": "stdout", 
                    "text": "n\n"
                }
            ], 
            "source": "# Print the last element in the string\n\nprint(Name[-1])"
        }, 
        {
            "execution_count": 15, 
            "cell_type": "code", 
            "metadata": {}, 
            "outputs": [
                {
                    "output_type": "stream", 
                    "name": "stdout", 
                    "text": "M\n"
                }
            ], 
            "source": "# Print the first element in the string\n\nprint(Name[-15])"
        }, 
        {
            "execution_count": 16, 
            "cell_type": "code", 
            "metadata": {}, 
            "outputs": [
                {
                    "execution_count": 16, 
                    "metadata": {}, 
                    "data": {
                        "text/plain": "15"
                    }, 
                    "output_type": "execute_result"
                }
            ], 
            "source": "# find the length of string\n\nlen(\"Michael Jackson\")"
        }, 
        {
            "execution_count": 17, 
            "cell_type": "code", 
            "metadata": {}, 
            "outputs": [
                {
                    "execution_count": 17, 
                    "metadata": {}, 
                    "data": {
                        "text/plain": "'Mich'"
                    }, 
                    "output_type": "execute_result"
                }
            ], 
            "source": "Name[0:4]"
        }, 
        {
            "execution_count": 18, 
            "cell_type": "code", 
            "metadata": {}, 
            "outputs": [
                {
                    "execution_count": 18, 
                    "metadata": {}, 
                    "data": {
                        "text/plain": "'el '"
                    }, 
                    "output_type": "execute_result"
                }
            ], 
            "source": "Name[5:8]"
        }, 
        {
            "execution_count": 19, 
            "cell_type": "code", 
            "metadata": {}, 
            "outputs": [
                {
                    "execution_count": 19, 
                    "metadata": {}, 
                    "data": {
                        "text/plain": "'el J'"
                    }, 
                    "output_type": "execute_result"
                }
            ], 
            "source": "Name[5:9]"
        }, 
        {
            "execution_count": 20, 
            "cell_type": "code", 
            "metadata": {}, 
            "outputs": [
                {
                    "execution_count": 20, 
                    "metadata": {}, 
                    "data": {
                        "text/plain": "'Mich'"
                    }, 
                    "output_type": "execute_result"
                }
            ], 
            "source": "# Take the slice on variable Name with only index 0 to index 3\n\nName[0:4]"
        }, 
        {
            "execution_count": 21, 
            "cell_type": "code", 
            "metadata": {}, 
            "outputs": [
                {
                    "execution_count": 21, 
                    "metadata": {}, 
                    "data": {
                        "text/plain": "'Jack'"
                    }, 
                    "output_type": "execute_result"
                }
            ], 
            "source": "# Take the slice on variable Name with only index 8 to index 11\n\nName[8:12]"
        }, 
        {
            "source": "## Stride", 
            "cell_type": "markdown", 
            "metadata": {}
        }, 
        {
            "execution_count": 22, 
            "cell_type": "code", 
            "metadata": {}, 
            "outputs": [
                {
                    "execution_count": 22, 
                    "metadata": {}, 
                    "data": {
                        "text/plain": "'McalJcsn'"
                    }, 
                    "output_type": "execute_result"
                }
            ], 
            "source": "# Get every second elemet. The elements on index 1, 3,5...\n\nName[::2]"
        }, 
        {
            "execution_count": 23, 
            "cell_type": "code", 
            "metadata": {}, 
            "outputs": [
                {
                    "execution_count": 23, 
                    "metadata": {}, 
                    "data": {
                        "text/plain": "'Mca'"
                    }, 
                    "output_type": "execute_result"
                }
            ], 
            "source": "# Get every second element in the range from index 0 to index 4\n\nName[0:5:2]"
        }, 
        {
            "execution_count": 24, 
            "cell_type": "code", 
            "metadata": {}, 
            "outputs": [
                {
                    "execution_count": 24, 
                    "metadata": {}, 
                    "data": {
                        "text/plain": "'McalJcs'"
                    }, 
                    "output_type": "execute_result"
                }
            ], 
            "source": "Name[0:14:2]"
        }, 
        {
            "execution_count": 25, 
            "cell_type": "code", 
            "metadata": {}, 
            "outputs": [
                {
                    "execution_count": 25, 
                    "metadata": {}, 
                    "data": {
                        "text/plain": "'McalJcsn'"
                    }, 
                    "output_type": "execute_result"
                }
            ], 
            "source": "Name[0:15:2]"
        }, 
        {
            "source": "## Concatenate Strings", 
            "cell_type": "markdown", 
            "metadata": {}
        }, 
        {
            "execution_count": 26, 
            "cell_type": "code", 
            "metadata": {}, 
            "outputs": [], 
            "source": "# Concatenate two strings\n\nStatement = Name + \"is the best\""
        }, 
        {
            "execution_count": 27, 
            "cell_type": "code", 
            "metadata": {}, 
            "outputs": [
                {
                    "ename": "NameError", 
                    "evalue": "name 'Statemetn' is not defined", 
                    "traceback": [
                        "\u001b[0;31m---------------------------------------------------------------------------\u001b[0m", 
                        "\u001b[0;31mNameError\u001b[0m                                 Traceback (most recent call last)", 
                        "\u001b[0;32m<ipython-input-27-a9f38cb165fe>\u001b[0m in \u001b[0;36m<module>\u001b[0;34m()\u001b[0m\n\u001b[0;32m----> 1\u001b[0;31m \u001b[0mStatemetn\u001b[0m\u001b[0;34m\u001b[0m\u001b[0m\n\u001b[0m", 
                        "\u001b[0;31mNameError\u001b[0m: name 'Statemetn' is not defined"
                    ], 
                    "output_type": "error"
                }
            ], 
            "source": "Statemetn"
        }, 
        {
            "execution_count": 29, 
            "cell_type": "code", 
            "metadata": {}, 
            "outputs": [
                {
                    "execution_count": 29, 
                    "metadata": {}, 
                    "data": {
                        "text/plain": "'Michael JacksonMichael JacksonMichael Jackson'"
                    }, 
                    "output_type": "execute_result"
                }
            ], 
            "source": "# Print the string for 3 times\n\n3 * Name"
        }, 
        {
            "execution_count": 30, 
            "cell_type": "code", 
            "metadata": {}, 
            "outputs": [], 
            "source": "# Concatenate strings\n\nName = \"Michael Jackson\""
        }, 
        {
            "execution_count": 33, 
            "cell_type": "code", 
            "metadata": {}, 
            "outputs": [], 
            "source": "Name = Name + \" is the best\""
        }, 
        {
            "execution_count": 34, 
            "cell_type": "code", 
            "metadata": {}, 
            "outputs": [
                {
                    "execution_count": 34, 
                    "metadata": {}, 
                    "data": {
                        "text/plain": "'Michael Jacksonis the best is the best'"
                    }, 
                    "output_type": "execute_result"
                }
            ], 
            "source": "Name"
        }, 
        {
            "execution_count": 35, 
            "cell_type": "code", 
            "metadata": {
                "scrolled": true
            }, 
            "outputs": [
                {
                    "execution_count": 35, 
                    "metadata": {}, 
                    "data": {
                        "text/plain": "'Michael  is the best'"
                    }, 
                    "output_type": "execute_result"
                }
            ], 
            "source": "Name.replace('Jacksonis the best','')"
        }, 
        {
            "source": "## Escape Sequences", 
            "cell_type": "markdown", 
            "metadata": {}
        }, 
        {
            "execution_count": 36, 
            "cell_type": "code", 
            "metadata": {}, 
            "outputs": [
                {
                    "output_type": "stream", 
                    "name": "stdout", 
                    "text": " Michael Jackson \n is the best\n"
                }
            ], 
            "source": "# New line escape sequence\n\nprint(\" Michael Jackson \\n is the best\")"
        }, 
        {
            "execution_count": 37, 
            "cell_type": "code", 
            "metadata": {}, 
            "outputs": [
                {
                    "output_type": "stream", 
                    "name": "stdout", 
                    "text": " Michael Jackson \t is the best\n"
                }
            ], 
            "source": "# Tab escape sequence\n\nprint(\" Michael Jackson \\t is the best\")"
        }, 
        {
            "execution_count": 38, 
            "cell_type": "code", 
            "metadata": {}, 
            "outputs": [
                {
                    "output_type": "stream", 
                    "name": "stdout", 
                    "text": " Michael Jackson \\ is the best\n"
                }
            ], 
            "source": "# Include back slash in string\n\nprint(\" Michael Jackson \\\\ is the best\")"
        }, 
        {
            "execution_count": 41, 
            "cell_type": "code", 
            "metadata": {}, 
            "outputs": [
                {
                    "output_type": "stream", 
                    "name": "stdout", 
                    "text": "Michael Jackson \\ is the best\n"
                }
            ], 
            "source": "# r will tell pyhton that string will be display as raw string\n\nprint(r\"Michael Jackson \\ is the best\")"
        }, 
        {
            "source": "## String Operations", 
            "cell_type": "markdown", 
            "metadata": {}
        }, 
        {
            "execution_count": 42, 
            "cell_type": "code", 
            "metadata": {}, 
            "outputs": [
                {
                    "output_type": "stream", 
                    "name": "stdout", 
                    "text": "before upper: Thriller is the sixth studio album\n"
                }
            ], 
            "source": "# Upper method - convert all the characters in string to upper case\n\nA = \"Thriller is the sixth studio album\"\nprint(\"before upper:\", A)"
        }, 
        {
            "execution_count": 43, 
            "cell_type": "code", 
            "metadata": {}, 
            "outputs": [
                {
                    "output_type": "stream", 
                    "name": "stdout", 
                    "text": "After upper: THRILLER IS THE SIXTH STUDIO ALBUM\n"
                }
            ], 
            "source": "B = A.upper()\nprint(\"After upper:\", B)"
        }, 
        {
            "execution_count": 44, 
            "cell_type": "code", 
            "metadata": {}, 
            "outputs": [
                {
                    "output_type": "stream", 
                    "name": "stdout", 
                    "text": "Thriller is the sixth studio album\n"
                }
            ], 
            "source": "# Replacce method - replace the old substring with the new target substring is the segmenthas been found in the string\n\nprint(A)"
        }, 
        {
            "execution_count": 45, 
            "cell_type": "code", 
            "metadata": {}, 
            "outputs": [], 
            "source": "A = \"Michael Jackson is the best\"\nB = A.replace('Michael', 'Janet')"
        }, 
        {
            "execution_count": 46, 
            "cell_type": "code", 
            "metadata": {}, 
            "outputs": [
                {
                    "execution_count": 46, 
                    "metadata": {}, 
                    "data": {
                        "text/plain": "'Janet Jackson is the best'"
                    }, 
                    "output_type": "execute_result"
                }
            ], 
            "source": "B"
        }, 
        {
            "execution_count": 47, 
            "cell_type": "code", 
            "metadata": {}, 
            "outputs": [
                {
                    "execution_count": 47, 
                    "metadata": {}, 
                    "data": {
                        "text/plain": "5"
                    }, 
                    "output_type": "execute_result"
                }
            ], 
            "source": "# Find method - Find the substring in the string. Only index the first element of substring in string will be the output\n\nName = \"Michael Jackson\"\nName.find('el')"
        }, 
        {
            "execution_count": 48, 
            "cell_type": "code", 
            "metadata": {}, 
            "outputs": [
                {
                    "execution_count": 48, 
                    "metadata": {}, 
                    "data": {
                        "text/plain": "8"
                    }, 
                    "output_type": "execute_result"
                }
            ], 
            "source": "# Find the substring in the string\n\nName.find('Jack')"
        }, 
        {
            "execution_count": 51, 
            "cell_type": "code", 
            "metadata": {}, 
            "outputs": [
                {
                    "execution_count": 51, 
                    "metadata": {}, 
                    "data": {
                        "text/plain": "-1"
                    }, 
                    "output_type": "execute_result"
                }
            ], 
            "source": "# If cannot find the substring in the string\n\nName.find('jadvew')"
        }, 
        {
            "execution_count": 52, 
            "cell_type": "code", 
            "metadata": {}, 
            "outputs": [], 
            "source": "A = \"1\""
        }, 
        {
            "execution_count": 53, 
            "cell_type": "code", 
            "metadata": {}, 
            "outputs": [
                {
                    "execution_count": 53, 
                    "metadata": {}, 
                    "data": {
                        "text/plain": "'1'"
                    }, 
                    "output_type": "execute_result"
                }
            ], 
            "source": "A"
        }, 
        {
            "execution_count": 54, 
            "cell_type": "code", 
            "metadata": {}, 
            "outputs": [], 
            "source": "B = \"2\""
        }, 
        {
            "execution_count": 55, 
            "cell_type": "code", 
            "metadata": {}, 
            "outputs": [
                {
                    "execution_count": 55, 
                    "metadata": {}, 
                    "data": {
                        "text/plain": "'2'"
                    }, 
                    "output_type": "execute_result"
                }
            ], 
            "source": "B"
        }, 
        {
            "execution_count": 56, 
            "cell_type": "code", 
            "metadata": {}, 
            "outputs": [
                {
                    "execution_count": 56, 
                    "metadata": {}, 
                    "data": {
                        "text/plain": "'12'"
                    }, 
                    "output_type": "execute_result"
                }
            ], 
            "source": "C = A + B\nC"
        }, 
        {
            "execution_count": 57, 
            "cell_type": "code", 
            "metadata": {}, 
            "outputs": [
                {
                    "execution_count": 57, 
                    "metadata": {}, 
                    "data": {
                        "text/plain": "'ABCDEFG'"
                    }, 
                    "output_type": "execute_result"
                }
            ], 
            "source": "D = \"ABCDEFG\"\nD"
        }, 
        {
            "execution_count": 58, 
            "cell_type": "code", 
            "metadata": {}, 
            "outputs": [
                {
                    "execution_count": 58, 
                    "metadata": {}, 
                    "data": {
                        "text/plain": "'ABCD'"
                    }, 
                    "output_type": "execute_result"
                }
            ], 
            "source": "D[0:4]"
        }, 
        {
            "execution_count": 59, 
            "cell_type": "code", 
            "metadata": {}, 
            "outputs": [
                {
                    "output_type": "stream", 
                    "name": "stdout", 
                    "text": "ABC\n"
                }
            ], 
            "source": "print(D[0:3])"
        }, 
        {
            "execution_count": 60, 
            "cell_type": "code", 
            "metadata": {}, 
            "outputs": [
                {
                    "output_type": "stream", 
                    "name": "stdout", 
                    "text": "cok111\n"
                }
            ], 
            "source": "# Use a stride value of 2 to print out every second character of the string E\n\nE = 'clockr1e1c1t'\nprint(E[::2])"
        }, 
        {
            "execution_count": 61, 
            "cell_type": "code", 
            "metadata": {}, 
            "outputs": [
                {
                    "output_type": "stream", 
                    "name": "stdout", 
                    "text": "\\\n"
                }
            ], 
            "source": "# Print out a backslash\n\nprint(\"\\\\\")"
        }, 
        {
            "execution_count": 62, 
            "cell_type": "code", 
            "metadata": {}, 
            "outputs": [
                {
                    "execution_count": 62, 
                    "metadata": {}, 
                    "data": {
                        "text/plain": "'YOU ARE WRONG'"
                    }, 
                    "output_type": "execute_result"
                }
            ], 
            "source": "# Convert variable F to uppercase:\n\nF = \"You are wrong\"\nF.upper()"
        }, 
        {
            "execution_count": 63, 
            "cell_type": "code", 
            "metadata": {}, 
            "outputs": [
                {
                    "execution_count": 63, 
                    "metadata": {}, 
                    "data": {
                        "text/plain": "95"
                    }, 
                    "output_type": "execute_result"
                }
            ], 
            "source": "# Find the first index of the sub-string 'snow' in variable G\n\nG = \"Mary had a little lamb Little lamb, little lamb Mary had a little lamb \\\nIts fleece was white as snow And everywhere that Mary went Mary went, Mary went \\\nEverywhere that Mary went The lamb was sure to go\"\n\nG.find('snow')"
        }, 
        {
            "execution_count": 64, 
            "cell_type": "code", 
            "metadata": {}, 
            "outputs": [
                {
                    "execution_count": 64, 
                    "metadata": {}, 
                    "data": {
                        "text/plain": "'Bob had a little lamb Little lamb, little lamb Bob had a little lamb Its fleece was white as snow And everywhere that Bob went Bob went, Bob went Everywhere that Bob went The lamb was sure to go'"
                    }, 
                    "output_type": "execute_result"
                }
            ], 
            "source": "# In variable G, replace the sub-string Mary with Bob:\n\nG.replace('Mary',\"Bob\")"
        }, 
        {
            "execution_count": null, 
            "cell_type": "code", 
            "metadata": {}, 
            "outputs": [], 
            "source": ""
        }
    ], 
    "metadata": {
        "kernelspec": {
            "display_name": "Python 3.5", 
            "name": "python3", 
            "language": "python"
        }, 
        "language_info": {
            "mimetype": "text/x-python", 
            "nbconvert_exporter": "python", 
            "version": "3.5.5", 
            "name": "python", 
            "file_extension": ".py", 
            "pygments_lexer": "ipython3", 
            "codemirror_mode": {
                "version": 3, 
                "name": "ipython"
            }
        }
    }, 
    "nbformat": 4
}