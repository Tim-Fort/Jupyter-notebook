{
    "nbformat_minor": 1, 
    "cells": [
        {
            "source": "# Dictionaries in Python", 
            "cell_type": "markdown", 
            "metadata": {
                "collapsed": true
            }
        }, 
        {
            "execution_count": 3, 
            "cell_type": "code", 
            "metadata": {}, 
            "outputs": [], 
            "source": "# Create the dictionary\n\nDict = {'key1': 1, 'key2':'2', 'key3': [3,3,3], 'key4': (4,4,4), ('key5'): 5, (0,1): 6}"
        }, 
        {
            "execution_count": 6, 
            "cell_type": "code", 
            "metadata": {}, 
            "outputs": [
                {
                    "output_type": "stream", 
                    "name": "stdout", 
                    "text": "Value of key1 of Dict: 1\nValue of (0,1) of Dict: 6\n"
                }
            ], 
            "source": "# Access to the value by the key\n\nprint('Value of key1 of Dict:', Dict['key1'])\nprint('Value of (0,1) of Dict:', Dict[(0,1)])\n"
        }, 
        {
            "execution_count": 9, 
            "cell_type": "code", 
            "metadata": {}, 
            "outputs": [
                {
                    "execution_count": 9, 
                    "metadata": {}, 
                    "data": {
                        "text/plain": "{'Back in Black': '1980',\n 'Bat Out of Hell': '1977',\n 'Rumours': '1977',\n 'Saturday Night Fever': '1977',\n 'The Bodyguard': '1992',\n 'The Dark Side of the Moon': '1973',\n 'Their Greatest Hits (1971-1975)': '1976',\n 'Thriller': '1982'}"
                    }, 
                    "output_type": "execute_result"
                }
            ], 
            "source": "# Create a sample dictionary\n\nrelease_year_dict = {'Thriller': '1982', 'Back in Black': '1980', \\\n                    'The Dark Side of the Moon': '1973', 'The Bodyguard': '1992', \\\n                     'Bat Out of Hell': '1977', 'Their Greatest Hits (1971-1975)': '1976', \\\n                     'Saturday Night Fever': '1977', 'Rumours': '1977'}\n\nrelease_year_dict"
        }, 
        {
            "source": "## Keys", 
            "cell_type": "markdown", 
            "metadata": {}
        }, 
        {
            "execution_count": 12, 
            "cell_type": "code", 
            "metadata": {}, 
            "outputs": [
                {
                    "execution_count": 12, 
                    "metadata": {}, 
                    "data": {
                        "text/plain": "'1982'"
                    }, 
                    "output_type": "execute_result"
                }
            ], 
            "source": "# Get value of 'Thriller' key\n\nrelease_year_dict['Thriller']"
        }, 
        {
            "execution_count": 13, 
            "cell_type": "code", 
            "metadata": {}, 
            "outputs": [
                {
                    "execution_count": 13, 
                    "metadata": {}, 
                    "data": {
                        "text/plain": "'1992'"
                    }, 
                    "output_type": "execute_result"
                }
            ], 
            "source": "# Get value of 'The Bodyguard' key\n\nrelease_year_dict['The Bodyguard']"
        }, 
        {
            "execution_count": 14, 
            "cell_type": "code", 
            "metadata": {}, 
            "outputs": [
                {
                    "execution_count": 14, 
                    "metadata": {}, 
                    "data": {
                        "text/plain": "dict_keys(['The Dark Side of the Moon', 'Rumours', 'Bat Out of Hell', 'Their Greatest Hits (1971-1975)', 'Saturday Night Fever', 'Back in Black', 'The Bodyguard', 'Thriller'])"
                    }, 
                    "output_type": "execute_result"
                }
            ], 
            "source": "# Get all the keys in dictionary\n\nrelease_year_dict.keys()"
        }, 
        {
            "execution_count": 15, 
            "cell_type": "code", 
            "metadata": {}, 
            "outputs": [
                {
                    "execution_count": 15, 
                    "metadata": {}, 
                    "data": {
                        "text/plain": "dict_values(['1973', '1977', '1977', '1976', '1977', '1980', '1992', '1982'])"
                    }, 
                    "output_type": "execute_result"
                }
            ], 
            "source": "# Get all the values in dictionary\n\nrelease_year_dict.values()"
        }, 
        {
            "execution_count": 16, 
            "cell_type": "code", 
            "metadata": {}, 
            "outputs": [
                {
                    "execution_count": 16, 
                    "metadata": {}, 
                    "data": {
                        "text/plain": "{'Back in Black': '1980',\n 'Bat Out of Hell': '1977',\n 'Graduation': '2007',\n 'Rumours': '1977',\n 'Saturday Night Fever': '1977',\n 'The Bodyguard': '1992',\n 'The Dark Side of the Moon': '1973',\n 'Their Greatest Hits (1971-1975)': '1976',\n 'Thriller': '1982'}"
                    }, 
                    "output_type": "execute_result"
                }
            ], 
            "source": "# Append value with key into dictionary\n\nrelease_year_dict['Graduation'] = '2007'\nrelease_year_dict\n"
        }, 
        {
            "execution_count": 18, 
            "cell_type": "code", 
            "metadata": {}, 
            "outputs": [
                {
                    "execution_count": 18, 
                    "metadata": {}, 
                    "data": {
                        "text/plain": "{'Back in Black': '1980',\n 'Bat Out of Hell': '1977',\n 'Rumours': '1977',\n 'Saturday Night Fever': '1977',\n 'The Bodyguard': '1992',\n 'The Dark Side of the Moon': '1973',\n 'Their Greatest Hits (1971-1975)': '1976'}"
                    }, 
                    "output_type": "execute_result"
                }
            ], 
            "source": "# Delete entries by key\n\ndel(release_year_dict['Thriller'])\ndel(release_year_dict['Graduation'])\nrelease_year_dict"
        }, 
        {
            "execution_count": 20, 
            "cell_type": "code", 
            "metadata": {}, 
            "outputs": [
                {
                    "execution_count": 20, 
                    "metadata": {}, 
                    "data": {
                        "text/plain": "True"
                    }, 
                    "output_type": "execute_result"
                }
            ], 
            "source": "# Verify the key is in the dictionary\n\n'The Bodyguard' in release_year_dict"
        }, 
        {
            "execution_count": null, 
            "cell_type": "code", 
            "metadata": {}, 
            "outputs": [], 
            "source": ""
        }
    ], 
    "metadata": {
        "kernelspec": {
            "display_name": "Python 3.5", 
            "name": "python3", 
            "language": "python"
        }, 
        "language_info": {
            "mimetype": "text/x-python", 
            "nbconvert_exporter": "python", 
            "version": "3.5.5", 
            "name": "python", 
            "file_extension": ".py", 
            "pygments_lexer": "ipython3", 
            "codemirror_mode": {
                "version": 3, 
                "name": "ipython"
            }
        }
    }, 
    "nbformat": 4
}