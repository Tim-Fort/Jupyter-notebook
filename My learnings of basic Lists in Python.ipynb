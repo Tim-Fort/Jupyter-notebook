{
    "nbformat_minor": 1, 
    "cells": [
        {
            "source": "# My learnings of Lists in Python", 
            "cell_type": "markdown", 
            "metadata": {
                "collapsed": true
            }
        }, 
        {
            "execution_count": 1, 
            "cell_type": "code", 
            "metadata": {}, 
            "outputs": [
                {
                    "execution_count": 1, 
                    "metadata": {}, 
                    "data": {
                        "text/plain": "['Michael Jackson', 10.1, 1982]"
                    }, 
                    "output_type": "execute_result"
                }
            ], 
            "source": "# Create a list\n\nL = ['Michael Jackson', 10.1, 1982]\nL"
        }, 
        {
            "execution_count": 5, 
            "cell_type": "code", 
            "metadata": {}, 
            "outputs": [
                {
                    "output_type": "stream", 
                    "name": "stdout", 
                    "text": "the same element using negative and positive indexing:n\\ Positive Michael Jackson n\\ Negative Michael Jackson\nthe same element using negative and positive indexing:n\\ Positive 10.1 n\\ Negative 10.1\nthe same element using negative and positive indexing:n\\ Positive 1982 n\\ Negative 1982\n"
                }
            ], 
            "source": "# Print the elements on each index\n\nprint('the same element using negative and positive indexing:n\\ Positive',L[0],\n      'n\\ Negative', L[-3] )\nprint('the same element using negative and positive indexing:n\\ Positive',L[1],\n      'n\\ Negative', L[-2] )\nprint('the same element using negative and positive indexing:n\\ Positive',L[2],\n      'n\\ Negative', L[-1] )"
        }, 
        {
            "source": "## List Operations", 
            "cell_type": "markdown", 
            "metadata": {}
        }, 
        {
            "execution_count": 6, 
            "cell_type": "code", 
            "metadata": {}, 
            "outputs": [
                {
                    "execution_count": 6, 
                    "metadata": {}, 
                    "data": {
                        "text/plain": "['Michael Jackson', 10.1, 1982, 'MJ', 1]"
                    }, 
                    "output_type": "execute_result"
                }
            ], 
            "source": "# Sample list\n\nL = ['Michael Jackson', 10.1, 1982, 'MJ',1]\nL"
        }, 
        {
            "execution_count": 7, 
            "cell_type": "code", 
            "metadata": {}, 
            "outputs": [
                {
                    "execution_count": 7, 
                    "metadata": {}, 
                    "data": {
                        "text/plain": "['MJ', 1]"
                    }, 
                    "output_type": "execute_result"
                }
            ], 
            "source": "# List slicing\n\nL[3:5]"
        }, 
        {
            "execution_count": 8, 
            "cell_type": "code", 
            "metadata": {}, 
            "outputs": [
                {
                    "execution_count": 8, 
                    "metadata": {}, 
                    "data": {
                        "text/plain": "['Michael Jackson', 10.2, 'pop', 10]"
                    }, 
                    "output_type": "execute_result"
                }
            ], 
            "source": "# Use extend to add elemeents to list\n\nL = ['Michael Jackson', 10.2]\nL.extend(['pop',10])\nL"
        }, 
        {
            "execution_count": 10, 
            "cell_type": "code", 
            "metadata": {}, 
            "outputs": [
                {
                    "execution_count": 10, 
                    "metadata": {}, 
                    "data": {
                        "text/plain": "['Michael Jackson', 10.2, ['pop', 10]]"
                    }, 
                    "output_type": "execute_result"
                }
            ], 
            "source": "# Use append to add elements to list\n\nL = ['Michael Jackson', 10.2]\nL.append(['pop', 10])\nL"
        }, 
        {
            "execution_count": 11, 
            "cell_type": "code", 
            "metadata": {}, 
            "outputs": [
                {
                    "execution_count": 11, 
                    "metadata": {}, 
                    "data": {
                        "text/plain": "['Michael Jackson', 10.2, 'pop', 10]"
                    }, 
                    "output_type": "execute_result"
                }
            ], 
            "source": "# Use extend to add elements to list\n\nL = ['Michael Jackson', 10.2]\nL.extend(['pop', 10])\nL"
        }, 
        {
            "execution_count": 12, 
            "cell_type": "code", 
            "metadata": {}, 
            "outputs": [
                {
                    "execution_count": 12, 
                    "metadata": {}, 
                    "data": {
                        "text/plain": "['Michael Jackson', 10.2, 'pop', 10, ['a', 'b']]"
                    }, 
                    "output_type": "execute_result"
                }
            ], 
            "source": "# Use append to add elements to list\n\nL. append(['a','b'])\nL"
        }, 
        {
            "execution_count": 14, 
            "cell_type": "code", 
            "metadata": {}, 
            "outputs": [
                {
                    "output_type": "stream", 
                    "name": "stdout", 
                    "text": "Before change: ['disco', 10, 1.2]\nAfter change: ['hard rock', 10, 1.2]\n"
                }
            ], 
            "source": "# Change the element based on the index\n\nA = ['disco', 10, 1.2]\nprint('Before change:', A)\nA[0]= 'hard rock'\nprint('After change:', A)"
        }, 
        {
            "execution_count": 15, 
            "cell_type": "code", 
            "metadata": {}, 
            "outputs": [
                {
                    "output_type": "stream", 
                    "name": "stdout", 
                    "text": "Before change: ['hard rock', 10, 1.2]\nAfter change [10, 1.2]\n"
                }
            ], 
            "source": "# Delete the element based on the index\n\nprint('Before change:', A)\ndel(A[0])\nprint('After change', A)"
        }, 
        {
            "execution_count": 16, 
            "cell_type": "code", 
            "metadata": {}, 
            "outputs": [
                {
                    "execution_count": 16, 
                    "metadata": {}, 
                    "data": {
                        "text/plain": "['hard', 'rock']"
                    }, 
                    "output_type": "execute_result"
                }
            ], 
            "source": "# Split the string, default is by space\n\n'hard rock'.split()"
        }, 
        {
            "execution_count": 17, 
            "cell_type": "code", 
            "metadata": {}, 
            "outputs": [
                {
                    "execution_count": 17, 
                    "metadata": {}, 
                    "data": {
                        "text/plain": "['A', 'B', 'C', 'D']"
                    }, 
                    "output_type": "execute_result"
                }
            ], 
            "source": "# Split the string by comma\n\n'A,B,C,D'.split(',')"
        }, 
        {
            "source": "## Copy and Clone list", 
            "cell_type": "markdown", 
            "metadata": {}
        }, 
        {
            "execution_count": 18, 
            "cell_type": "code", 
            "metadata": {}, 
            "outputs": [
                {
                    "output_type": "stream", 
                    "name": "stdout", 
                    "text": "A: ['hard rock', 10, 1.2]\nB ['hard rock', 10, 1.2]\n"
                }
            ], 
            "source": "# Copy (copy by reference) the list A\n\nA = ['hard rock', 10, 1.2]\nB = A\nprint('A:', A)\nprint('B', B)\n\n"
        }, 
        {
            "execution_count": 20, 
            "cell_type": "code", 
            "metadata": {}, 
            "outputs": [
                {
                    "output_type": "stream", 
                    "name": "stdout", 
                    "text": "B[0]: banana\nB[0]: banana\n"
                }
            ], 
            "source": "# Examine the copy by reference\n\nprint('B[0]:', B[0])\nA[0] = 'banana'\nprint('B[0]:', B[0])"
        }, 
        {
            "execution_count": 22, 
            "cell_type": "code", 
            "metadata": {}, 
            "outputs": [
                {
                    "execution_count": 22, 
                    "metadata": {}, 
                    "data": {
                        "text/plain": "['banana', 10, 1.2]"
                    }, 
                    "output_type": "execute_result"
                }
            ], 
            "source": "# Clone (clone by value) the list A\n\nB = A[:]\nB"
        }, 
        {
            "execution_count": 23, 
            "cell_type": "code", 
            "metadata": {}, 
            "outputs": [
                {
                    "output_type": "stream", 
                    "name": "stdout", 
                    "text": "B[0]: banana\nB[0]: banana\n"
                }
            ], 
            "source": "print('B[0]:', B[0])\nA[0] = 'hard rock'\nprint('B[0]:', B[0])"
        }, 
        {
            "execution_count": null, 
            "cell_type": "code", 
            "metadata": {}, 
            "outputs": [], 
            "source": ""
        }
    ], 
    "metadata": {
        "kernelspec": {
            "display_name": "Python 3.5", 
            "name": "python3", 
            "language": "python"
        }, 
        "language_info": {
            "mimetype": "text/x-python", 
            "nbconvert_exporter": "python", 
            "version": "3.5.5", 
            "name": "python", 
            "file_extension": ".py", 
            "pygments_lexer": "ipython3", 
            "codemirror_mode": {
                "version": 3, 
                "name": "ipython"
            }
        }
    }, 
    "nbformat": 4
}